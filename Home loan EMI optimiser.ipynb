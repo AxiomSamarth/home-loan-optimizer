{
 "cells": [
  {
   "cell_type": "code",
   "execution_count": 1,
   "metadata": {},
   "outputs": [],
   "source": [
    "import math\n",
    "import json"
   ]
  },
  {
   "cell_type": "code",
   "execution_count": 2,
   "metadata": {},
   "outputs": [],
   "source": [
    "loan_amount = 5000000\n",
    "\n",
    "interest_rate = 7.15\n",
    "monthly_interest_rate = interest_rate/(100*12)\n",
    "months = 180\n",
    "\n",
    "factor = (1+monthly_interest_rate)**months\n",
    "scheme_records = list()"
   ]
  },
  {
   "cell_type": "code",
   "execution_count": 3,
   "metadata": {},
   "outputs": [],
   "source": [
    "# this function calculates the annual interest paid and the annual taxes saved\n",
    "def update_annual_info(annual_records, annual_interest, year):\n",
    "    annual_info = dict()\n",
    "    \n",
    "    annual_info['year'] = year\n",
    "    annual_info['annual_interest'] = annual_interest\n",
    "    annual_info['annual_tax_saved'] = math.floor(0.3*annual_interest)\n",
    "    \n",
    "    annual_records.append(annual_info)"
   ]
  },
  {
   "cell_type": "code",
   "execution_count": 4,
   "metadata": {},
   "outputs": [],
   "source": [
    "# this functions updates the map with annual interest saved and annual taxes saaved for the specified\n",
    "# yearly percentage hike in the EMI paid\n",
    "def update_scheme_records(scheme_records, annual_records, months, yearly_percentage_hike):\n",
    "    scheme_info = dict()\n",
    "    \n",
    "    total_interest = 0\n",
    "    total_tax_saved = 0\n",
    "    \n",
    "    for annual_record in annual_records:\n",
    "        total_interest += annual_record['annual_interest'] \n",
    "        total_tax_saved += annual_record['annual_tax_saved']\n",
    "    \n",
    "    scheme_info['years_to_settle'] = math.floor(months/12)\n",
    "    scheme_info['yearly_percentage_hike'] = str(yearly_percentage_hike * 100) + \"%\"\n",
    "    scheme_info['total_interest'] = total_interest\n",
    "    scheme_info['total_tax_saved'] = total_tax_saved\n",
    "    \n",
    "    scheme_records.append(scheme_info)"
   ]
  },
  {
   "cell_type": "code",
   "execution_count": 5,
   "metadata": {},
   "outputs": [],
   "source": [
    "# core logic to find the most optimum yearly percentage hike to the EMIs\n",
    "for yearly_percentage_hike in range(0, 25, 5):\n",
    "    EMI = dict()\n",
    "    \n",
    "    principle = loan_amount\n",
    "    Standard_EMI = math.ceil(principle * monthly_interest_rate * factor/(factor-1))\n",
    "    annual_interest = 0\n",
    "    annual_records = list()\n",
    "    \n",
    "    for month in range(1,months+1):\n",
    "        if principle < 0:\n",
    "            break\n",
    "\n",
    "        EMI['month'] = month\n",
    "        EMI['towards_interest'] = math.floor(principle*monthly_interest_rate)\n",
    "        EMI['towards_principle'] = round((Standard_EMI - EMI['towards_interest']),1)\n",
    "\n",
    "        principle = principle - EMI['towards_principle']\n",
    "        annual_interest += EMI['towards_interest']\n",
    "\n",
    "        if (month)%12 == 0:\n",
    "            year = month/12\n",
    "            update_annual_info(annual_records, annual_interest, year)\n",
    "            annual_interest = 0\n",
    "            Standard_EMI = math.floor(Standard_EMI * (1+(yearly_percentage_hike/100)))\n",
    "\n",
    "    update_scheme_records(scheme_records, annual_records, month, yearly_percentage_hike/100)"
   ]
  },
  {
   "cell_type": "code",
   "execution_count": 6,
   "metadata": {},
   "outputs": [
    {
     "name": "stdout",
     "output_type": "stream",
     "text": [
      "[\n",
      "    {\n",
      "        \"years_to_settle\": 15,\n",
      "        \"yearly_percentage_hike\": \"0.0%\",\n",
      "        \"total_interest\": 3164928,\n",
      "        \"total_tax_saved\": 949471\n",
      "    },\n",
      "    {\n",
      "        \"years_to_settle\": 10,\n",
      "        \"yearly_percentage_hike\": \"5.0%\",\n",
      "        \"total_interest\": 2369130,\n",
      "        \"total_tax_saved\": 710736\n",
      "    },\n",
      "    {\n",
      "        \"years_to_settle\": 8,\n",
      "        \"yearly_percentage_hike\": \"10.0%\",\n",
      "        \"total_interest\": 1994158,\n",
      "        \"total_tax_saved\": 598244\n",
      "    },\n",
      "    {\n",
      "        \"years_to_settle\": 7,\n",
      "        \"yearly_percentage_hike\": \"15.0%\",\n",
      "        \"total_interest\": 1772901,\n",
      "        \"total_tax_saved\": 531868\n",
      "    },\n",
      "    {\n",
      "        \"years_to_settle\": 6,\n",
      "        \"yearly_percentage_hike\": \"20.0%\",\n",
      "        \"total_interest\": 1596151,\n",
      "        \"total_tax_saved\": 478843\n",
      "    }\n",
      "]\n"
     ]
    }
   ],
   "source": [
    "print(json.dumps(scheme_records, indent = 4))"
   ]
  },
  {
   "cell_type": "code",
   "execution_count": null,
   "metadata": {},
   "outputs": [],
   "source": []
  }
 ],
 "metadata": {
  "kernelspec": {
   "display_name": "Python 3",
   "language": "python",
   "name": "python3"
  },
  "language_info": {
   "codemirror_mode": {
    "name": "ipython",
    "version": 3
   },
   "file_extension": ".py",
   "mimetype": "text/x-python",
   "name": "python",
   "nbconvert_exporter": "python",
   "pygments_lexer": "ipython3",
   "version": "3.9.5"
  }
 },
 "nbformat": 4,
 "nbformat_minor": 4
}
